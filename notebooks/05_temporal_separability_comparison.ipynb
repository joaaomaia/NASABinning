{
 "cells": [
  {
   "cell_type": "markdown",
   "metadata": {},
   "source": [
    "# Compara\u00e7\u00e3o de Binning\n",
    "Este notebook compara o resultado do `NASABinner` tradicional com a \"vers\u00e3o\" que utiliza a \"temporal_separability_score\" via Optuna."
   ]
  },
  {
   "cell_type": "code",
   "metadata": {},
   "execution_count": null,
   "source": [
    "import os, sys\n",
    "sys.path.append(os.path.abspath('..'))\n",
    "import pandas as pd\n",
    "import numpy as np\n",
    "import matplotlib.pyplot as plt\n",
    "from nasabinning import NASABinner\n",
    "from nasabinning.optuna_optimizer import optimize_bins"
   ],
   "outputs": []
  },
  {
   "cell_type": "code",
   "metadata": {},
   "execution_count": null,
   "source": [
    "# dados simples com coluna de tempo\n",
    "rng = np.random.default_rng(0)\n",
    "X = pd.DataFrame({'score': rng.normal(size=500)})\n",
    "y = (X['score'] > 0).astype(int)\n",
    "X['safra'] = np.repeat([202301, 202302, 202303, 202304, 202305], 100)\n"
   ],
   "outputs": []
  },
  {
   "cell_type": "code",
   "metadata": {},
   "execution_count": null,
   "source": [
    "# binning tradicional\n",
    "binner = NASABinner(strategy='supervised', use_optuna=False)\n",
    "binner.fit(X[['score']], y, time_col='safra')\n",
    "binner.plot_event_rate_stability()"
   ],
   "outputs": []
  },
  {
   "cell_type": "code",
   "metadata": {},
   "execution_count": null,
   "source": [
    "# binning otimizado com separabilidade temporal\n",
    "best, opt_binner = optimize_bins(\n",
    "    X[['score']], y,\n",
    "    time_col='safra', time_values=X['safra'],\n",
    "    strategy='supervised', n_trials=20\n",
    ")\n",
    "opt_binner.plot_event_rate_stability()"
   ],
   "outputs": []
  }
 ],
 "metadata": {
  "kernelspec": {
   "display_name": "Python 3",
   "language": "python",
   "name": "python3"
  },
  "language_info": {
   "name": "python",
   "pygments_lexer": "ipython3"
  }
 },
 "nbformat": 4,
 "nbformat_minor": 2
}
