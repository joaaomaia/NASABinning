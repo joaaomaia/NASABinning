{
 "cells": [
  {
   "cell_type": "markdown",
   "metadata": {},
   "source": [
    "# Teste de funcionalidades recentes"
   ]
  },
  {
   "cell_type": "code",
   "execution_count": 1,
   "metadata": {},
   "outputs": [],
   "source": [
    "import numpy as np",
    "import pandas as pd",
    "from nasabinning.binning_engine import NASABinner",
    "from nasabinning.temporal_stability import temporal_separability_score, event_rate_by_time"
   ]
  },
  {
   "cell_type": "code",
   "execution_count": 2,
   "metadata": {},
   "outputs": [],
   "source": [
    "np.random.seed(0)",
    "n = 200",
    "X = pd.DataFrame({'x': np.random.normal(size=n)})",
    "time_values = np.random.choice([202301, 202302, 202303, 202304], size=n)",
    "y = (X['x'] > 0).astype(int)",
    "X['Month'] = time_values"
   ]
  },
  {
   "cell_type": "code",
   "execution_count": 3,
   "metadata": {},
   "outputs": [],
   "source": [
    "binner = NASABinner(use_optuna=True, check_stability=True)",
    "binner.fit(X[['x']], y, time_col='Month')",
    "print(binner.best_params_['x'])"
   ]
  },
  {
   "cell_type": "code",
   "execution_count": 4,
   "metadata": {},
   "outputs": [],
   "source": [
    "bins = binner.transform(X[['x']])",
    "df_tmp = pd.DataFrame({'bin': bins['x'], 'target': y, 'time': X['Month']})",
    "tbl = df_tmp.groupby(['bin', 'time'])['target'].agg(['sum', 'count']).reset_index().rename(columns={'sum': 'event', 'count': 'count'})",
    "tbl['variable'] = 'x'",
    "pivot = event_rate_by_time(tbl, 'time')",
    "score = temporal_separability_score(df_tmp, 'x', 'bin', 'target', 'time')",
    "print('Temporal separability', score)"
   ]
  }
 ],
 "metadata": {
  "kernelspec": {
   "display_name": "ENV_STONE",
   "language": "python",
   "name": "python3"
  },
  "language_info": {
   "codemirror_mode": {
    "name": "ipython",
    "version": 3
   },
   "file_extension": ".py",
   "mimetype": "text/x-python",
   "name": "python",
   "nbconvert_exporter": "python",
   "pygments_lexer": "ipython3",
   "version": "3.10.16"
  }
 },
 "nbformat": 4,
 "nbformat_minor": 2
}
